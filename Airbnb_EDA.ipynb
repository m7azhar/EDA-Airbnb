{
  "cells": [
    {
      "cell_type": "markdown",
      "metadata": {
        "id": "view-in-github",
        "colab_type": "text"
      },
      "source": [
        "<a href=\"https://colab.research.google.com/github/m7azhar/EDA-Airbnb/blob/main/Airbnb_EDA.ipynb\" target=\"_parent\"><img src=\"https://colab.research.google.com/assets/colab-badge.svg\" alt=\"Open In Colab\"/></a>"
      ]
    },
    {
      "cell_type": "code",
      "execution_count": null,
      "id": "627391e2",
      "metadata": {
        "id": "627391e2"
      },
      "outputs": [],
      "source": [
        "import pandas as pd\n",
        "import numpy as np\n",
        "import matplotlib.pyplot as plt\n",
        "import seaborn as sns\n",
        "%matplotlib inline"
      ]
    },
    {
      "cell_type": "code",
      "execution_count": null,
      "id": "3850f262",
      "metadata": {
        "id": "3850f262",
        "outputId": "418d068d-661c-4772-9bae-dac12fafa6b8"
      },
      "outputs": [
        {
          "data": {
            "text/html": [
              "<div>\n",
              "<style scoped>\n",
              "    .dataframe tbody tr th:only-of-type {\n",
              "        vertical-align: middle;\n",
              "    }\n",
              "\n",
              "    .dataframe tbody tr th {\n",
              "        vertical-align: top;\n",
              "    }\n",
              "\n",
              "    .dataframe thead th {\n",
              "        text-align: right;\n",
              "    }\n",
              "</style>\n",
              "<table border=\"1\" class=\"dataframe\">\n",
              "  <thead>\n",
              "    <tr style=\"text-align: right;\">\n",
              "      <th></th>\n",
              "      <th>0</th>\n",
              "      <th>1</th>\n",
              "      <th>2</th>\n",
              "      <th>3</th>\n",
              "      <th>4</th>\n",
              "    </tr>\n",
              "  </thead>\n",
              "  <tbody>\n",
              "    <tr>\n",
              "      <th>id</th>\n",
              "      <td>2539</td>\n",
              "      <td>2595</td>\n",
              "      <td>3647</td>\n",
              "      <td>3831</td>\n",
              "      <td>5022</td>\n",
              "    </tr>\n",
              "    <tr>\n",
              "      <th>name</th>\n",
              "      <td>Clean &amp; quiet apt home by the park</td>\n",
              "      <td>Skylit Midtown Castle</td>\n",
              "      <td>THE VILLAGE OF HARLEM....NEW YORK !</td>\n",
              "      <td>Cozy Entire Floor of Brownstone</td>\n",
              "      <td>Entire Apt: Spacious Studio/Loft by central park</td>\n",
              "    </tr>\n",
              "    <tr>\n",
              "      <th>host_id</th>\n",
              "      <td>2787</td>\n",
              "      <td>2845</td>\n",
              "      <td>4632</td>\n",
              "      <td>4869</td>\n",
              "      <td>7192</td>\n",
              "    </tr>\n",
              "    <tr>\n",
              "      <th>host_name</th>\n",
              "      <td>John</td>\n",
              "      <td>Jennifer</td>\n",
              "      <td>Elisabeth</td>\n",
              "      <td>LisaRoxanne</td>\n",
              "      <td>Laura</td>\n",
              "    </tr>\n",
              "    <tr>\n",
              "      <th>neighbourhood_group</th>\n",
              "      <td>Brooklyn</td>\n",
              "      <td>Manhattan</td>\n",
              "      <td>Manhattan</td>\n",
              "      <td>Brooklyn</td>\n",
              "      <td>Manhattan</td>\n",
              "    </tr>\n",
              "    <tr>\n",
              "      <th>neighbourhood</th>\n",
              "      <td>Kensington</td>\n",
              "      <td>Midtown</td>\n",
              "      <td>Harlem</td>\n",
              "      <td>Clinton Hill</td>\n",
              "      <td>East Harlem</td>\n",
              "    </tr>\n",
              "    <tr>\n",
              "      <th>latitude</th>\n",
              "      <td>40.64749</td>\n",
              "      <td>40.75362</td>\n",
              "      <td>40.80902</td>\n",
              "      <td>40.68514</td>\n",
              "      <td>40.79851</td>\n",
              "    </tr>\n",
              "    <tr>\n",
              "      <th>longitude</th>\n",
              "      <td>-73.97237</td>\n",
              "      <td>-73.98377</td>\n",
              "      <td>-73.9419</td>\n",
              "      <td>-73.95976</td>\n",
              "      <td>-73.94399</td>\n",
              "    </tr>\n",
              "    <tr>\n",
              "      <th>room_type</th>\n",
              "      <td>Private room</td>\n",
              "      <td>Entire home/apt</td>\n",
              "      <td>Private room</td>\n",
              "      <td>Entire home/apt</td>\n",
              "      <td>Entire home/apt</td>\n",
              "    </tr>\n",
              "    <tr>\n",
              "      <th>price</th>\n",
              "      <td>149</td>\n",
              "      <td>225</td>\n",
              "      <td>150</td>\n",
              "      <td>89</td>\n",
              "      <td>80</td>\n",
              "    </tr>\n",
              "    <tr>\n",
              "      <th>minimum_nights</th>\n",
              "      <td>1</td>\n",
              "      <td>1</td>\n",
              "      <td>3</td>\n",
              "      <td>1</td>\n",
              "      <td>10</td>\n",
              "    </tr>\n",
              "    <tr>\n",
              "      <th>number_of_reviews</th>\n",
              "      <td>9</td>\n",
              "      <td>45</td>\n",
              "      <td>0</td>\n",
              "      <td>270</td>\n",
              "      <td>9</td>\n",
              "    </tr>\n",
              "    <tr>\n",
              "      <th>last_review</th>\n",
              "      <td>2018-10-19</td>\n",
              "      <td>2019-05-21</td>\n",
              "      <td>NaN</td>\n",
              "      <td>2019-07-05</td>\n",
              "      <td>2018-11-19</td>\n",
              "    </tr>\n",
              "    <tr>\n",
              "      <th>reviews_per_month</th>\n",
              "      <td>0.21</td>\n",
              "      <td>0.38</td>\n",
              "      <td>NaN</td>\n",
              "      <td>4.64</td>\n",
              "      <td>0.1</td>\n",
              "    </tr>\n",
              "    <tr>\n",
              "      <th>calculated_host_listings_count</th>\n",
              "      <td>6</td>\n",
              "      <td>2</td>\n",
              "      <td>1</td>\n",
              "      <td>1</td>\n",
              "      <td>1</td>\n",
              "    </tr>\n",
              "    <tr>\n",
              "      <th>availability_365</th>\n",
              "      <td>365</td>\n",
              "      <td>355</td>\n",
              "      <td>365</td>\n",
              "      <td>194</td>\n",
              "      <td>0</td>\n",
              "    </tr>\n",
              "  </tbody>\n",
              "</table>\n",
              "</div>"
            ],
            "text/plain": [
              "                                                                 0  \\\n",
              "id                                                            2539   \n",
              "name                            Clean & quiet apt home by the park   \n",
              "host_id                                                       2787   \n",
              "host_name                                                     John   \n",
              "neighbourhood_group                                       Brooklyn   \n",
              "neighbourhood                                           Kensington   \n",
              "latitude                                                  40.64749   \n",
              "longitude                                                -73.97237   \n",
              "room_type                                             Private room   \n",
              "price                                                          149   \n",
              "minimum_nights                                                   1   \n",
              "number_of_reviews                                                9   \n",
              "last_review                                             2018-10-19   \n",
              "reviews_per_month                                             0.21   \n",
              "calculated_host_listings_count                                   6   \n",
              "availability_365                                               365   \n",
              "\n",
              "                                                    1  \\\n",
              "id                                               2595   \n",
              "name                            Skylit Midtown Castle   \n",
              "host_id                                          2845   \n",
              "host_name                                    Jennifer   \n",
              "neighbourhood_group                         Manhattan   \n",
              "neighbourhood                                 Midtown   \n",
              "latitude                                     40.75362   \n",
              "longitude                                   -73.98377   \n",
              "room_type                             Entire home/apt   \n",
              "price                                             225   \n",
              "minimum_nights                                      1   \n",
              "number_of_reviews                                  45   \n",
              "last_review                                2019-05-21   \n",
              "reviews_per_month                                0.38   \n",
              "calculated_host_listings_count                      2   \n",
              "availability_365                                  355   \n",
              "\n",
              "                                                                  2  \\\n",
              "id                                                             3647   \n",
              "name                            THE VILLAGE OF HARLEM....NEW YORK !   \n",
              "host_id                                                        4632   \n",
              "host_name                                                 Elisabeth   \n",
              "neighbourhood_group                                       Manhattan   \n",
              "neighbourhood                                                Harlem   \n",
              "latitude                                                   40.80902   \n",
              "longitude                                                  -73.9419   \n",
              "room_type                                              Private room   \n",
              "price                                                           150   \n",
              "minimum_nights                                                    3   \n",
              "number_of_reviews                                                 0   \n",
              "last_review                                                     NaN   \n",
              "reviews_per_month                                               NaN   \n",
              "calculated_host_listings_count                                    1   \n",
              "availability_365                                                365   \n",
              "\n",
              "                                                              3  \\\n",
              "id                                                         3831   \n",
              "name                            Cozy Entire Floor of Brownstone   \n",
              "host_id                                                    4869   \n",
              "host_name                                           LisaRoxanne   \n",
              "neighbourhood_group                                    Brooklyn   \n",
              "neighbourhood                                      Clinton Hill   \n",
              "latitude                                               40.68514   \n",
              "longitude                                             -73.95976   \n",
              "room_type                                       Entire home/apt   \n",
              "price                                                        89   \n",
              "minimum_nights                                                1   \n",
              "number_of_reviews                                           270   \n",
              "last_review                                          2019-07-05   \n",
              "reviews_per_month                                          4.64   \n",
              "calculated_host_listings_count                                1   \n",
              "availability_365                                            194   \n",
              "\n",
              "                                                                               4  \n",
              "id                                                                          5022  \n",
              "name                            Entire Apt: Spacious Studio/Loft by central park  \n",
              "host_id                                                                     7192  \n",
              "host_name                                                                  Laura  \n",
              "neighbourhood_group                                                    Manhattan  \n",
              "neighbourhood                                                        East Harlem  \n",
              "latitude                                                                40.79851  \n",
              "longitude                                                              -73.94399  \n",
              "room_type                                                        Entire home/apt  \n",
              "price                                                                         80  \n",
              "minimum_nights                                                                10  \n",
              "number_of_reviews                                                              9  \n",
              "last_review                                                           2018-11-19  \n",
              "reviews_per_month                                                            0.1  \n",
              "calculated_host_listings_count                                                 1  \n",
              "availability_365                                                               0  "
            ]
          },
          "execution_count": 2,
          "metadata": {},
          "output_type": "execute_result"
        }
      ],
      "source": [
        "df = pd.read_csv(\"Airbnb NYC 2019 - Airbnb NYC 2019.csv\")\n",
        "df.head().T"
      ]
    },
    {
      "cell_type": "code",
      "execution_count": null,
      "id": "426d970e",
      "metadata": {
        "id": "426d970e"
      },
      "outputs": [],
      "source": [
        "df =df.rename(columns={\"calculated_host_listings_count\":\"host_count\"})"
      ]
    },
    {
      "cell_type": "code",
      "execution_count": null,
      "id": "7d44216f",
      "metadata": {
        "id": "7d44216f"
      },
      "outputs": [],
      "source": [
        "df['host_name'].fillna('no_name',inplace=True)\n",
        "df['name'].fillna('no_name',inplace=True)\n",
        "df['reviews_per_month'].fillna(0,inplace=True)\n",
        "#df['reviews_per_month']=df[reviews_per_month].replace(to_replace)"
      ]
    },
    {
      "cell_type": "code",
      "execution_count": null,
      "id": "6e98e62f",
      "metadata": {
        "id": "6e98e62f",
        "outputId": "bf04bf23-8260-4748-d68f-0587aafadd42"
      },
      "outputs": [
        {
          "data": {
            "text/html": [
              "<div>\n",
              "<style scoped>\n",
              "    .dataframe tbody tr th:only-of-type {\n",
              "        vertical-align: middle;\n",
              "    }\n",
              "\n",
              "    .dataframe tbody tr th {\n",
              "        vertical-align: top;\n",
              "    }\n",
              "\n",
              "    .dataframe thead th {\n",
              "        text-align: right;\n",
              "    }\n",
              "</style>\n",
              "<table border=\"1\" class=\"dataframe\">\n",
              "  <thead>\n",
              "    <tr style=\"text-align: right;\">\n",
              "      <th></th>\n",
              "      <th>id</th>\n",
              "      <th>name</th>\n",
              "      <th>host_id</th>\n",
              "      <th>host_name</th>\n",
              "      <th>neighbourhood_group</th>\n",
              "      <th>neighbourhood</th>\n",
              "      <th>latitude</th>\n",
              "      <th>longitude</th>\n",
              "      <th>room_type</th>\n",
              "      <th>price</th>\n",
              "      <th>minimum_nights</th>\n",
              "      <th>number_of_reviews</th>\n",
              "      <th>last_review</th>\n",
              "      <th>reviews_per_month</th>\n",
              "      <th>host_count</th>\n",
              "      <th>availability_365</th>\n",
              "    </tr>\n",
              "  </thead>\n",
              "  <tbody>\n",
              "    <tr>\n",
              "      <th>16561</th>\n",
              "      <td>13262935</td>\n",
              "      <td>Lovely large bedroom in Brownstone (garden)</td>\n",
              "      <td>9148721</td>\n",
              "      <td>Aurelie</td>\n",
              "      <td>Brooklyn</td>\n",
              "      <td>Bedford-Stuyvesant</td>\n",
              "      <td>40.68909</td>\n",
              "      <td>-73.94636</td>\n",
              "      <td>Private room</td>\n",
              "      <td>60</td>\n",
              "      <td>2</td>\n",
              "      <td>9</td>\n",
              "      <td>2018-01-17</td>\n",
              "      <td>0.24</td>\n",
              "      <td>2</td>\n",
              "      <td>0</td>\n",
              "    </tr>\n",
              "    <tr>\n",
              "      <th>7066</th>\n",
              "      <td>5093174</td>\n",
              "      <td>flexible 1BD LIVE/ WORK space BK</td>\n",
              "      <td>17312709</td>\n",
              "      <td>Matthew</td>\n",
              "      <td>Brooklyn</td>\n",
              "      <td>Bedford-Stuyvesant</td>\n",
              "      <td>40.69260</td>\n",
              "      <td>-73.94719</td>\n",
              "      <td>Entire home/apt</td>\n",
              "      <td>140</td>\n",
              "      <td>5</td>\n",
              "      <td>4</td>\n",
              "      <td>2015-06-06</td>\n",
              "      <td>0.08</td>\n",
              "      <td>1</td>\n",
              "      <td>0</td>\n",
              "    </tr>\n",
              "    <tr>\n",
              "      <th>33632</th>\n",
              "      <td>26627587</td>\n",
              "      <td>RH COZY HOME</td>\n",
              "      <td>199954647</td>\n",
              "      <td>Danny</td>\n",
              "      <td>Queens</td>\n",
              "      <td>Richmond Hill</td>\n",
              "      <td>40.69666</td>\n",
              "      <td>-73.83415</td>\n",
              "      <td>Entire home/apt</td>\n",
              "      <td>100</td>\n",
              "      <td>3</td>\n",
              "      <td>15</td>\n",
              "      <td>2019-01-01</td>\n",
              "      <td>1.33</td>\n",
              "      <td>1</td>\n",
              "      <td>0</td>\n",
              "    </tr>\n",
              "    <tr>\n",
              "      <th>29148</th>\n",
              "      <td>22379163</td>\n",
              "      <td>Cozy room in a big apartment around Myrtle Ave</td>\n",
              "      <td>150891854</td>\n",
              "      <td>Jiyoung</td>\n",
              "      <td>Brooklyn</td>\n",
              "      <td>Bedford-Stuyvesant</td>\n",
              "      <td>40.69178</td>\n",
              "      <td>-73.93690</td>\n",
              "      <td>Private room</td>\n",
              "      <td>23</td>\n",
              "      <td>3</td>\n",
              "      <td>2</td>\n",
              "      <td>2018-01-16</td>\n",
              "      <td>0.11</td>\n",
              "      <td>1</td>\n",
              "      <td>0</td>\n",
              "    </tr>\n",
              "    <tr>\n",
              "      <th>16292</th>\n",
              "      <td>13115616</td>\n",
              "      <td>Spacious Charming NYC Apt, 10 min to Midtown</td>\n",
              "      <td>9197619</td>\n",
              "      <td>Samantha</td>\n",
              "      <td>Queens</td>\n",
              "      <td>Ditmars Steinway</td>\n",
              "      <td>40.77592</td>\n",
              "      <td>-73.91308</td>\n",
              "      <td>Entire home/apt</td>\n",
              "      <td>130</td>\n",
              "      <td>10</td>\n",
              "      <td>0</td>\n",
              "      <td>NaN</td>\n",
              "      <td>0.00</td>\n",
              "      <td>1</td>\n",
              "      <td>0</td>\n",
              "    </tr>\n",
              "  </tbody>\n",
              "</table>\n",
              "</div>"
            ],
            "text/plain": [
              "             id                                            name    host_id  \\\n",
              "16561  13262935     Lovely large bedroom in Brownstone (garden)    9148721   \n",
              "7066    5093174                flexible 1BD LIVE/ WORK space BK   17312709   \n",
              "33632  26627587                                    RH COZY HOME  199954647   \n",
              "29148  22379163  Cozy room in a big apartment around Myrtle Ave  150891854   \n",
              "16292  13115616    Spacious Charming NYC Apt, 10 min to Midtown    9197619   \n",
              "\n",
              "      host_name neighbourhood_group       neighbourhood  latitude  longitude  \\\n",
              "16561   Aurelie            Brooklyn  Bedford-Stuyvesant  40.68909  -73.94636   \n",
              "7066    Matthew            Brooklyn  Bedford-Stuyvesant  40.69260  -73.94719   \n",
              "33632     Danny              Queens       Richmond Hill  40.69666  -73.83415   \n",
              "29148   Jiyoung            Brooklyn  Bedford-Stuyvesant  40.69178  -73.93690   \n",
              "16292  Samantha              Queens    Ditmars Steinway  40.77592  -73.91308   \n",
              "\n",
              "             room_type  price  minimum_nights  number_of_reviews last_review  \\\n",
              "16561     Private room     60               2                  9  2018-01-17   \n",
              "7066   Entire home/apt    140               5                  4  2015-06-06   \n",
              "33632  Entire home/apt    100               3                 15  2019-01-01   \n",
              "29148     Private room     23               3                  2  2018-01-16   \n",
              "16292  Entire home/apt    130              10                  0         NaN   \n",
              "\n",
              "       reviews_per_month  host_count  availability_365  \n",
              "16561               0.24           2                 0  \n",
              "7066                0.08           1                 0  \n",
              "33632               1.33           1                 0  \n",
              "29148               0.11           1                 0  \n",
              "16292               0.00           1                 0  "
            ]
          },
          "execution_count": 5,
          "metadata": {},
          "output_type": "execute_result"
        }
      ],
      "source": [
        "df.sample(5)"
      ]
    },
    {
      "cell_type": "code",
      "execution_count": null,
      "id": "ad534cca",
      "metadata": {
        "id": "ad534cca",
        "outputId": "2c599b10-fdb1-4536-88e8-cb3f19a67a88"
      },
      "outputs": [
        {
          "data": {
            "text/plain": [
              "id                     0\n",
              "name                   0\n",
              "host_id                0\n",
              "host_name              0\n",
              "neighbourhood_group    0\n",
              "neighbourhood          0\n",
              "latitude               0\n",
              "longitude              0\n",
              "room_type              0\n",
              "price                  0\n",
              "minimum_nights         0\n",
              "number_of_reviews      0\n",
              "reviews_per_month      0\n",
              "host_count             0\n",
              "availability_365       0\n",
              "dtype: int64"
            ]
          },
          "execution_count": 11,
          "metadata": {},
          "output_type": "execute_result"
        }
      ],
      "source": [
        "df.isnull().sum()"
      ]
    },
    {
      "cell_type": "code",
      "execution_count": null,
      "id": "2be39d89",
      "metadata": {
        "id": "2be39d89"
      },
      "outputs": [],
      "source": [
        "df.drop(columns=['last_review'],inplace=True)"
      ]
    },
    {
      "cell_type": "code",
      "execution_count": null,
      "id": "75c542ee",
      "metadata": {
        "id": "75c542ee",
        "outputId": "7d9ea6a5-5e4f-4c07-a4c7-a4f37ec10dd9"
      },
      "outputs": [
        {
          "data": {
            "text/plain": [
              "Index(['id', 'name', 'host_id', 'host_name', 'neighbourhood_group',\n",
              "       'neighbourhood', 'latitude', 'longitude', 'room_type', 'price',\n",
              "       'minimum_nights', 'number_of_reviews', 'reviews_per_month',\n",
              "       'host_count', 'availability_365'],\n",
              "      dtype='object')"
            ]
          },
          "execution_count": 10,
          "metadata": {},
          "output_type": "execute_result"
        }
      ],
      "source": [
        "df.columns"
      ]
    },
    {
      "cell_type": "code",
      "execution_count": null,
      "id": "dbc73f7f",
      "metadata": {
        "id": "dbc73f7f",
        "outputId": "44ac3d0e-9ea9-4cb5-df88-763081e54ddb"
      },
      "outputs": [
        {
          "name": "stdout",
          "output_type": "stream",
          "text": [
            "<class 'pandas.core.frame.DataFrame'>\n",
            "RangeIndex: 48895 entries, 0 to 48894\n",
            "Data columns (total 15 columns):\n",
            " #   Column               Non-Null Count  Dtype  \n",
            "---  ------               --------------  -----  \n",
            " 0   id                   48895 non-null  int64  \n",
            " 1   name                 48895 non-null  object \n",
            " 2   host_id              48895 non-null  int64  \n",
            " 3   host_name            48895 non-null  object \n",
            " 4   neighbourhood_group  48895 non-null  object \n",
            " 5   neighbourhood        48895 non-null  object \n",
            " 6   latitude             48895 non-null  float64\n",
            " 7   longitude            48895 non-null  float64\n",
            " 8   room_type            48895 non-null  object \n",
            " 9   price                48895 non-null  int64  \n",
            " 10  minimum_nights       48895 non-null  int64  \n",
            " 11  number_of_reviews    48895 non-null  int64  \n",
            " 12  reviews_per_month    48895 non-null  float64\n",
            " 13  host_count           48895 non-null  int64  \n",
            " 14  availability_365     48895 non-null  int64  \n",
            "dtypes: float64(3), int64(7), object(5)\n",
            "memory usage: 5.6+ MB\n"
          ]
        }
      ],
      "source": [
        "df.info()"
      ]
    },
    {
      "cell_type": "code",
      "execution_count": null,
      "id": "29ceed76",
      "metadata": {
        "id": "29ceed76",
        "outputId": "4f713691-8b03-42fd-8e69-470a192ad8d0"
      },
      "outputs": [
        {
          "data": {
            "text/html": [
              "<div>\n",
              "<style scoped>\n",
              "    .dataframe tbody tr th:only-of-type {\n",
              "        vertical-align: middle;\n",
              "    }\n",
              "\n",
              "    .dataframe tbody tr th {\n",
              "        vertical-align: top;\n",
              "    }\n",
              "\n",
              "    .dataframe thead th {\n",
              "        text-align: right;\n",
              "    }\n",
              "</style>\n",
              "<table border=\"1\" class=\"dataframe\">\n",
              "  <thead>\n",
              "    <tr style=\"text-align: right;\">\n",
              "      <th></th>\n",
              "      <th>id</th>\n",
              "      <th>host_id</th>\n",
              "      <th>latitude</th>\n",
              "      <th>longitude</th>\n",
              "      <th>price</th>\n",
              "      <th>minimum_nights</th>\n",
              "      <th>number_of_reviews</th>\n",
              "      <th>reviews_per_month</th>\n",
              "      <th>host_count</th>\n",
              "      <th>availability_365</th>\n",
              "    </tr>\n",
              "  </thead>\n",
              "  <tbody>\n",
              "    <tr>\n",
              "      <th>count</th>\n",
              "      <td>4.889500e+04</td>\n",
              "      <td>4.889500e+04</td>\n",
              "      <td>48895.000000</td>\n",
              "      <td>48895.000000</td>\n",
              "      <td>48895.000000</td>\n",
              "      <td>48895.000000</td>\n",
              "      <td>48895.000000</td>\n",
              "      <td>48895.000000</td>\n",
              "      <td>48895.000000</td>\n",
              "      <td>48895.000000</td>\n",
              "    </tr>\n",
              "    <tr>\n",
              "      <th>mean</th>\n",
              "      <td>1.901714e+07</td>\n",
              "      <td>6.762001e+07</td>\n",
              "      <td>40.728949</td>\n",
              "      <td>-73.952170</td>\n",
              "      <td>152.720687</td>\n",
              "      <td>7.029962</td>\n",
              "      <td>23.274466</td>\n",
              "      <td>1.090910</td>\n",
              "      <td>7.143982</td>\n",
              "      <td>112.781327</td>\n",
              "    </tr>\n",
              "    <tr>\n",
              "      <th>std</th>\n",
              "      <td>1.098311e+07</td>\n",
              "      <td>7.861097e+07</td>\n",
              "      <td>0.054530</td>\n",
              "      <td>0.046157</td>\n",
              "      <td>240.154170</td>\n",
              "      <td>20.510550</td>\n",
              "      <td>44.550582</td>\n",
              "      <td>1.597283</td>\n",
              "      <td>32.952519</td>\n",
              "      <td>131.622289</td>\n",
              "    </tr>\n",
              "    <tr>\n",
              "      <th>min</th>\n",
              "      <td>2.539000e+03</td>\n",
              "      <td>2.438000e+03</td>\n",
              "      <td>40.499790</td>\n",
              "      <td>-74.244420</td>\n",
              "      <td>0.000000</td>\n",
              "      <td>1.000000</td>\n",
              "      <td>0.000000</td>\n",
              "      <td>0.000000</td>\n",
              "      <td>1.000000</td>\n",
              "      <td>0.000000</td>\n",
              "    </tr>\n",
              "    <tr>\n",
              "      <th>25%</th>\n",
              "      <td>9.471945e+06</td>\n",
              "      <td>7.822033e+06</td>\n",
              "      <td>40.690100</td>\n",
              "      <td>-73.983070</td>\n",
              "      <td>69.000000</td>\n",
              "      <td>1.000000</td>\n",
              "      <td>1.000000</td>\n",
              "      <td>0.040000</td>\n",
              "      <td>1.000000</td>\n",
              "      <td>0.000000</td>\n",
              "    </tr>\n",
              "    <tr>\n",
              "      <th>50%</th>\n",
              "      <td>1.967728e+07</td>\n",
              "      <td>3.079382e+07</td>\n",
              "      <td>40.723070</td>\n",
              "      <td>-73.955680</td>\n",
              "      <td>106.000000</td>\n",
              "      <td>3.000000</td>\n",
              "      <td>5.000000</td>\n",
              "      <td>0.370000</td>\n",
              "      <td>1.000000</td>\n",
              "      <td>45.000000</td>\n",
              "    </tr>\n",
              "    <tr>\n",
              "      <th>75%</th>\n",
              "      <td>2.915218e+07</td>\n",
              "      <td>1.074344e+08</td>\n",
              "      <td>40.763115</td>\n",
              "      <td>-73.936275</td>\n",
              "      <td>175.000000</td>\n",
              "      <td>5.000000</td>\n",
              "      <td>24.000000</td>\n",
              "      <td>1.580000</td>\n",
              "      <td>2.000000</td>\n",
              "      <td>227.000000</td>\n",
              "    </tr>\n",
              "    <tr>\n",
              "      <th>max</th>\n",
              "      <td>3.648724e+07</td>\n",
              "      <td>2.743213e+08</td>\n",
              "      <td>40.913060</td>\n",
              "      <td>-73.712990</td>\n",
              "      <td>10000.000000</td>\n",
              "      <td>1250.000000</td>\n",
              "      <td>629.000000</td>\n",
              "      <td>58.500000</td>\n",
              "      <td>327.000000</td>\n",
              "      <td>365.000000</td>\n",
              "    </tr>\n",
              "  </tbody>\n",
              "</table>\n",
              "</div>"
            ],
            "text/plain": [
              "                 id       host_id      latitude     longitude         price  \\\n",
              "count  4.889500e+04  4.889500e+04  48895.000000  48895.000000  48895.000000   \n",
              "mean   1.901714e+07  6.762001e+07     40.728949    -73.952170    152.720687   \n",
              "std    1.098311e+07  7.861097e+07      0.054530      0.046157    240.154170   \n",
              "min    2.539000e+03  2.438000e+03     40.499790    -74.244420      0.000000   \n",
              "25%    9.471945e+06  7.822033e+06     40.690100    -73.983070     69.000000   \n",
              "50%    1.967728e+07  3.079382e+07     40.723070    -73.955680    106.000000   \n",
              "75%    2.915218e+07  1.074344e+08     40.763115    -73.936275    175.000000   \n",
              "max    3.648724e+07  2.743213e+08     40.913060    -73.712990  10000.000000   \n",
              "\n",
              "       minimum_nights  number_of_reviews  reviews_per_month    host_count  \\\n",
              "count    48895.000000       48895.000000       48895.000000  48895.000000   \n",
              "mean         7.029962          23.274466           1.090910      7.143982   \n",
              "std         20.510550          44.550582           1.597283     32.952519   \n",
              "min          1.000000           0.000000           0.000000      1.000000   \n",
              "25%          1.000000           1.000000           0.040000      1.000000   \n",
              "50%          3.000000           5.000000           0.370000      1.000000   \n",
              "75%          5.000000          24.000000           1.580000      2.000000   \n",
              "max       1250.000000         629.000000          58.500000    327.000000   \n",
              "\n",
              "       availability_365  \n",
              "count      48895.000000  \n",
              "mean         112.781327  \n",
              "std          131.622289  \n",
              "min            0.000000  \n",
              "25%            0.000000  \n",
              "50%           45.000000  \n",
              "75%          227.000000  \n",
              "max          365.000000  "
            ]
          },
          "execution_count": 136,
          "metadata": {},
          "output_type": "execute_result"
        }
      ],
      "source": [
        "df.describe()"
      ]
    },
    {
      "cell_type": "code",
      "execution_count": null,
      "id": "f90ccfc1",
      "metadata": {
        "id": "f90ccfc1",
        "outputId": "91e13474-58de-4965-dec1-38f3a6995658"
      },
      "outputs": [
        {
          "data": {
            "text/plain": [
              "id                     48895\n",
              "name                   47893\n",
              "host_id                37457\n",
              "host_name              11453\n",
              "neighbourhood_group        5\n",
              "neighbourhood            221\n",
              "latitude               19048\n",
              "longitude              14718\n",
              "room_type                  3\n",
              "price                    674\n",
              "minimum_nights           109\n",
              "number_of_reviews        394\n",
              "reviews_per_month        938\n",
              "host_count                47\n",
              "availability_365         366\n",
              "dtype: int64"
            ]
          },
          "execution_count": 13,
          "metadata": {},
          "output_type": "execute_result"
        }
      ],
      "source": [
        "df.nunique()"
      ]
    },
    {
      "cell_type": "code",
      "execution_count": null,
      "id": "dea55970",
      "metadata": {
        "id": "dea55970",
        "outputId": "f18c4045-8eef-4951-db47-c507730eb7a3"
      },
      "outputs": [
        {
          "data": {
            "text/plain": [
              "11"
            ]
          },
          "execution_count": 7,
          "metadata": {},
          "output_type": "execute_result"
        }
      ],
      "source": [
        "len(df[df['price']==0])"
      ]
    },
    {
      "cell_type": "code",
      "execution_count": null,
      "id": "5377b768",
      "metadata": {
        "id": "5377b768",
        "outputId": "62330e61-9cc2-4ea4-a3b9-57d57b06768d"
      },
      "outputs": [
        {
          "data": {
            "text/html": [
              "<div>\n",
              "<style scoped>\n",
              "    .dataframe tbody tr th:only-of-type {\n",
              "        vertical-align: middle;\n",
              "    }\n",
              "\n",
              "    .dataframe tbody tr th {\n",
              "        vertical-align: top;\n",
              "    }\n",
              "\n",
              "    .dataframe thead th {\n",
              "        text-align: right;\n",
              "    }\n",
              "</style>\n",
              "<table border=\"1\" class=\"dataframe\">\n",
              "  <thead>\n",
              "    <tr style=\"text-align: right;\">\n",
              "      <th></th>\n",
              "      <th>name</th>\n",
              "      <th>host_name</th>\n",
              "      <th>neighbourhood_group</th>\n",
              "      <th>neighbourhood</th>\n",
              "      <th>room_type</th>\n",
              "    </tr>\n",
              "  </thead>\n",
              "  <tbody>\n",
              "    <tr>\n",
              "      <th>count</th>\n",
              "      <td>48895</td>\n",
              "      <td>48895</td>\n",
              "      <td>48895</td>\n",
              "      <td>48895</td>\n",
              "      <td>48895</td>\n",
              "    </tr>\n",
              "    <tr>\n",
              "      <th>unique</th>\n",
              "      <td>47893</td>\n",
              "      <td>11453</td>\n",
              "      <td>5</td>\n",
              "      <td>221</td>\n",
              "      <td>3</td>\n",
              "    </tr>\n",
              "    <tr>\n",
              "      <th>top</th>\n",
              "      <td>Hillside Hotel</td>\n",
              "      <td>Michael</td>\n",
              "      <td>Manhattan</td>\n",
              "      <td>Williamsburg</td>\n",
              "      <td>Entire home/apt</td>\n",
              "    </tr>\n",
              "    <tr>\n",
              "      <th>freq</th>\n",
              "      <td>18</td>\n",
              "      <td>417</td>\n",
              "      <td>21661</td>\n",
              "      <td>3920</td>\n",
              "      <td>25409</td>\n",
              "    </tr>\n",
              "  </tbody>\n",
              "</table>\n",
              "</div>"
            ],
            "text/plain": [
              "                  name host_name neighbourhood_group neighbourhood  \\\n",
              "count            48895     48895               48895         48895   \n",
              "unique           47893     11453                   5           221   \n",
              "top     Hillside Hotel   Michael           Manhattan  Williamsburg   \n",
              "freq                18       417               21661          3920   \n",
              "\n",
              "              room_type  \n",
              "count             48895  \n",
              "unique                3  \n",
              "top     Entire home/apt  \n",
              "freq              25409  "
            ]
          },
          "execution_count": 14,
          "metadata": {},
          "output_type": "execute_result"
        }
      ],
      "source": [
        "df.describe(include='O')"
      ]
    },
    {
      "cell_type": "code",
      "execution_count": null,
      "id": "d9d76cde",
      "metadata": {
        "id": "d9d76cde",
        "outputId": "916ffdb6-a3bd-4bf5-e077-e1b783f13741"
      },
      "outputs": [
        {
          "name": "stdout",
          "output_type": "stream",
          "text": [
            "10000\n"
          ]
        }
      ],
      "source": [
        "print(df['price'].max())"
      ]
    },
    {
      "cell_type": "code",
      "execution_count": null,
      "id": "105a2616",
      "metadata": {
        "id": "105a2616",
        "outputId": "b096d748-65c9-4b4b-e0ab-db7918a6eabb"
      },
      "outputs": [
        {
          "data": {
            "image/png": "[encoded data removed]",
            "text/plain": [
              "<Figure size 640x480 with 1 Axes>"
            ]
          },
          "metadata": {},
          "output_type": "display_data"
        }
      ],
      "source": [
        "#here we can find the outliers\n",
        "sns.boxplot(x=df['price'])\n",
        "plt.show()"
      ]
    },
    {
      "cell_type": "code",
      "execution_count": null,
      "id": "ceb86b72",
      "metadata": {
        "id": "ceb86b72",
        "outputId": "7b7acc4a-ef75-4182-89f9-16214cb0d7c0"
      },
      "outputs": [
        {
          "data": {
            "text/plain": [
              "count    48895.000000\n",
              "mean       152.720687\n",
              "std        240.154170\n",
              "min          0.000000\n",
              "25%         69.000000\n",
              "50%        106.000000\n",
              "75%        175.000000\n",
              "max      10000.000000\n",
              "Name: price, dtype: float64"
            ]
          },
          "execution_count": 19,
          "metadata": {},
          "output_type": "execute_result"
        }
      ],
      "source": [
        "df['price'].describe()"
      ]
    },
    {
      "cell_type": "code",
      "execution_count": null,
      "id": "f2012100",
      "metadata": {
        "id": "f2012100"
      },
      "outputs": [],
      "source": [
        "def iqr(DFcolumns):\n",
        "        Q1 = np.percentile(DFcolumns, 25)\n",
        "        Q3 = np.percentile(DFcolumns, 75)\n",
        "\n",
        "        IQR = Q3-Q1\n",
        "\n",
        "        lower_range = Q1 - (1.5 * IQR)\n",
        "        upper_range = Q3 + (1.5 * IQR)\n",
        "\n",
        "        return lower_range, upper_range"
      ]
    },
    {
      "cell_type": "code",
      "execution_count": null,
      "id": "98e5a7c9",
      "metadata": {
        "id": "98e5a7c9"
      },
      "outputs": [],
      "source": [
        "lower_range,upper_range = iqr(df['price'])\n",
        "lower_range,upper_range\n",
        "df = df[(df.price > lower_range) & (df.price < upper_range)]"
      ]
    },
    {
      "cell_type": "code",
      "execution_count": null,
      "id": "a9e56270",
      "metadata": {
        "id": "a9e56270",
        "outputId": "0b8c65d6-3baa-4368-935a-e497ae2e1479"
      },
      "outputs": [
        {
          "name": "stdout",
          "output_type": "stream",
          "text": [
            "(45918, 15)\n"
          ]
        },
        {
          "data": {
            "image/png": "[encoded data removed]",
            "text/plain": [
              "<Figure size 640x480 with 1 Axes>"
            ]
          },
          "metadata": {},
          "output_type": "display_data"
        }
      ],
      "source": [
        "sns.boxplot(x=df['price'])\n",
        "print(df.shape)"
      ]
    },
    {
      "cell_type": "code",
      "execution_count": null,
      "id": "ca27fc1b",
      "metadata": {
        "id": "ca27fc1b",
        "outputId": "d9e8e98b-f181-427f-f3d5-d594a34b0bb3"
      },
      "outputs": [
        {
          "name": "stderr",
          "output_type": "stream",
          "text": [
            "C:\\Users\\ASUS\\anaconda3\\Lib\\site-packages\\seaborn\\axisgrid.py:118: UserWarning: The figure layout has changed to tight\n",
            "  self._figure.tight_layout(*args, **kwargs)\n"
          ]
        },
        {
          "data": {
            "text/plain": [
              "<Figure size 1200x600 with 0 Axes>"
            ]
          },
          "metadata": {},
          "output_type": "display_data"
        },
        {
          "data": {
            "image/png": "[encoded data removed]",
            "text/plain": [
              "<Figure size 500x500 with 1 Axes>"
            ]
          },
          "metadata": {},
          "output_type": "display_data"
        }
      ],
      "source": [
        "#(1) Find Distribution Of Airbnb Bookings Price Range.\n",
        "\n",
        "plt.figure(figsize=(12, 6))\n",
        "sns.displot(df['price'],kde=True,bins=20)\n",
        "plt.title('Distribution of Airbnb Bookings Price Range')\n",
        "plt.xlabel('Price (USD)')\n",
        "plt.ylabel('Frequency')\n",
        "plt.show()"
      ]
    },
    {
      "cell_type": "code",
      "execution_count": null,
      "id": "9cd648a4",
      "metadata": {
        "id": "9cd648a4",
        "outputId": "30e66920-afbb-4b1c-8f4a-da7bac96cc55"
      },
      "outputs": [
        {
          "data": {
            "text/plain": [
              "neighbourhood_group\n",
              "Manhattan        19501\n",
              "Brooklyn         19415\n",
              "Queens            5567\n",
              "Bronx             1070\n",
              "Staten Island      365\n",
              "Name: count, dtype: int64"
            ]
          },
          "execution_count": 30,
          "metadata": {},
          "output_type": "execute_result"
        }
      ],
      "source": [
        "#(2) Find Total Listing/Property count in Each Neighborhood Group in NYC.\n",
        "\n",
        "df['neighbourhood_group'].value_counts()"
      ]
    },
    {
      "cell_type": "code",
      "execution_count": null,
      "id": "a961b2ac",
      "metadata": {
        "id": "a961b2ac",
        "outputId": "645f5c5d-6abe-4c7a-bd71-d05fa1170355"
      },
      "outputs": [
        {
          "data": {
            "text/plain": [
              "<Axes: xlabel='neighbourhood_group', ylabel='count'>"
            ]
          },
          "execution_count": 31,
          "metadata": {},
          "output_type": "execute_result"
        },
        {
          "data": {
            "image/png": "[encoded data removed]",
            "text/plain": [
              "<Figure size 640x480 with 1 Axes>"
            ]
          },
          "metadata": {},
          "output_type": "display_data"
        }
      ],
      "source": [
        "sns.countplot(x=df['neighbourhood_group'],palette='viridis')"
      ]
    },
    {
      "cell_type": "code",
      "execution_count": null,
      "id": "eab35af2",
      "metadata": {
        "scrolled": false,
        "id": "eab35af2"
      },
      "outputs": [],
      "source": []
    },
    {
      "cell_type": "code",
      "execution_count": null,
      "id": "cf51ea6e",
      "metadata": {
        "id": "cf51ea6e",
        "outputId": "9f57e6ad-79b6-4279-ba6e-98caec5c326d"
      },
      "outputs": [
        {
          "data": {
            "text/plain": [
              "neighbourhood_group\n",
              "Bronx             77.365421\n",
              "Brooklyn         105.699614\n",
              "Manhattan        145.904620\n",
              "Queens            88.904437\n",
              "Staten Island     89.235616\n",
              "Name: price, dtype: float64"
            ]
          },
          "execution_count": 34,
          "metadata": {},
          "output_type": "execute_result"
        }
      ],
      "source": [
        "#(3) Find Average Price Of listings/property in each Neighborhood Groups and also Neighborhoods. #doubt\n",
        "\n",
        "df.groupby([\"neighbourhood_group\"])[\"price\"].mean()"
      ]
    },
    {
      "cell_type": "code",
      "execution_count": null,
      "id": "1933ecae",
      "metadata": {
        "id": "1933ecae",
        "outputId": "c421fab6-397c-48bf-b4af-96db79ece9e0"
      },
      "outputs": [
        {
          "data": {
            "text/plain": [
              "<Axes: xlabel='neighbourhood_group', ylabel='price'>"
            ]
          },
          "execution_count": 35,
          "metadata": {},
          "output_type": "execute_result"
        },
        {
          "data": {
            "image/png": "[encoded data removed]",
            "text/plain": [
              "<Figure size 640x480 with 1 Axes>"
            ]
          },
          "metadata": {},
          "output_type": "display_data"
        }
      ],
      "source": [
        "sns.barplot(x = 'neighbourhood_group', y = 'price', data = df)"
      ]
    },
    {
      "cell_type": "code",
      "execution_count": null,
      "id": "682d5948",
      "metadata": {
        "id": "682d5948",
        "outputId": "5e3e0775-c70e-4699-e683-49311f118545"
      },
      "outputs": [
        {
          "data": {
            "text/plain": [
              "neighbourhood\n",
              "Williamsburg          3732\n",
              "Bedford-Stuyvesant    3638\n",
              "Harlem                2585\n",
              "Bushwick              2438\n",
              "Upper West Side       1788\n",
              "Hell's Kitchen        1731\n",
              "East Village          1714\n",
              "Upper East Side       1670\n",
              "Crown Heights         1519\n",
              "Midtown               1143\n",
              "Name: count, dtype: int64"
            ]
          },
          "execution_count": 38,
          "metadata": {},
          "output_type": "execute_result"
        }
      ],
      "source": [
        "#(4) Find Top Neighborhoods and Hosts by Listing/property in entire NYC.\n",
        "\n",
        "top_10 = df['neighbourhood'].value_counts().head(10)\n",
        "top_10"
      ]
    },
    {
      "cell_type": "code",
      "execution_count": null,
      "id": "3b535eca",
      "metadata": {
        "id": "3b535eca",
        "outputId": "bf676052-d201-4a1a-c1d5-e9b84de03f8a"
      },
      "outputs": [
        {
          "data": {
            "text/plain": [
              "host_name\n",
              "Michael         383\n",
              "David           368\n",
              "John            276\n",
              "Sonder (NYC)    272\n",
              "Alex            253\n",
              "Sarah           221\n",
              "Daniel          212\n",
              "Maria           197\n",
              "Jessica         185\n",
              "Mike            184\n",
              "Name: count, dtype: int64"
            ]
          },
          "execution_count": 37,
          "metadata": {},
          "output_type": "execute_result"
        }
      ],
      "source": [
        "top_10_hosts = df['host_name'].value_counts()[:10]\n",
        "top_10_hosts"
      ]
    },
    {
      "cell_type": "code",
      "execution_count": null,
      "id": "3597d36e",
      "metadata": {
        "id": "3597d36e",
        "outputId": "75bbb9a8-585d-4243-f7cb-eb66718da451"
      },
      "outputs": [
        {
          "data": {
            "text/html": [
              "<div>\n",
              "<style scoped>\n",
              "    .dataframe tbody tr th:only-of-type {\n",
              "        vertical-align: middle;\n",
              "    }\n",
              "\n",
              "    .dataframe tbody tr th {\n",
              "        vertical-align: top;\n",
              "    }\n",
              "\n",
              "    .dataframe thead th {\n",
              "        text-align: right;\n",
              "    }\n",
              "</style>\n",
              "<table border=\"1\" class=\"dataframe\">\n",
              "  <thead>\n",
              "    <tr style=\"text-align: right;\">\n",
              "      <th></th>\n",
              "      <th>neighbourhood_group</th>\n",
              "      <th>0</th>\n",
              "    </tr>\n",
              "  </thead>\n",
              "  <tbody>\n",
              "    <tr>\n",
              "      <th>0</th>\n",
              "      <td>Bronx</td>\n",
              "      <td>914</td>\n",
              "    </tr>\n",
              "    <tr>\n",
              "      <th>1</th>\n",
              "      <td>Brooklyn</td>\n",
              "      <td>12260</td>\n",
              "    </tr>\n",
              "    <tr>\n",
              "      <th>2</th>\n",
              "      <td>Manhattan</td>\n",
              "      <td>13559</td>\n",
              "    </tr>\n",
              "    <tr>\n",
              "      <th>3</th>\n",
              "      <td>Queens</td>\n",
              "      <td>4298</td>\n",
              "    </tr>\n",
              "    <tr>\n",
              "      <th>4</th>\n",
              "      <td>Staten Island</td>\n",
              "      <td>331</td>\n",
              "    </tr>\n",
              "  </tbody>\n",
              "</table>\n",
              "</div>"
            ],
            "text/plain": [
              "  neighbourhood_group      0\n",
              "0               Bronx    914\n",
              "1            Brooklyn  12260\n",
              "2           Manhattan  13559\n",
              "3              Queens   4298\n",
              "4       Staten Island    331"
            ]
          },
          "execution_count": 145,
          "metadata": {},
          "output_type": "execute_result"
        }
      ],
      "source": [
        "#(5) Find the Number Of Active Hosts Per Location by Each Neighborhood Groups.\n",
        "\n",
        "df[df[\"availability_365\"]>0].groupby(\"neighbourhood_group\").size().reset_index()"
      ]
    },
    {
      "cell_type": "code",
      "execution_count": null,
      "id": "62db8be3",
      "metadata": {
        "id": "62db8be3",
        "outputId": "c71e6155-4c05-4dd3-d271-9a97fe4ff4c8"
      },
      "outputs": [
        {
          "name": "stderr",
          "output_type": "stream",
          "text": [
            "C:\\Users\\ASUS\\anaconda3\\Lib\\site-packages\\seaborn\\axisgrid.py:118: UserWarning: The figure layout has changed to tight\n",
            "  self._figure.tight_layout(*args, **kwargs)\n"
          ]
        },
        {
          "data": {
            "text/plain": [
              "<seaborn.axisgrid.FacetGrid at 0x200aa959b90>"
            ]
          },
          "execution_count": 83,
          "metadata": {},
          "output_type": "execute_result"
        },
        {
          "data": {
            "image/png": "[encoded data removed]",
            "text/plain": [
              "<Figure size 663.611x500 with 1 Axes>"
            ]
          },
          "metadata": {},
          "output_type": "display_data"
        }
      ],
      "source": [
        "sns.displot(df,x='availability_365',hue=\"neighbourhood_group\",multiple=\"dodge\")\n"
      ]
    },
    {
      "cell_type": "code",
      "execution_count": null,
      "id": "8936ad70",
      "metadata": {
        "id": "8936ad70",
        "outputId": "a9b4c481-ebc2-4aa5-b999-10d69254fbd7"
      },
      "outputs": [
        {
          "data": {
            "text/plain": [
              "Index(['id', 'name', 'host_id', 'host_name', 'neighbourhood_group',\n",
              "       'neighbourhood', 'latitude', 'longitude', 'room_type', 'price',\n",
              "       'minimum_nights', 'number_of_reviews', 'reviews_per_month',\n",
              "       'host_count', 'availability_365'],\n",
              "      dtype='object')"
            ]
          },
          "execution_count": 147,
          "metadata": {},
          "output_type": "execute_result"
        }
      ],
      "source": [
        "df.columns"
      ]
    },
    {
      "cell_type": "code",
      "execution_count": null,
      "id": "4f74fca0",
      "metadata": {
        "id": "4f74fca0",
        "outputId": "328a3b02-a366-4fd6-fc75-124d958c0461"
      },
      "outputs": [
        {
          "data": {
            "text/plain": [
              "room_type\n",
              "Entire home/apt    22784\n",
              "Private room       21996\n",
              "Shared room         1138\n",
              "Name: count, dtype: int64"
            ]
          },
          "execution_count": 48,
          "metadata": {},
          "output_type": "execute_result"
        }
      ],
      "source": [
        "#(6) Find Total Counts Of Each Room Types in entire NYC.\n",
        "df[\"room_type\"].value_counts()"
      ]
    },
    {
      "cell_type": "code",
      "execution_count": null,
      "id": "f84058ff",
      "metadata": {
        "id": "f84058ff",
        "outputId": "b277ddf9-0675-4eb8-b1c9-27ba4d3a4859"
      },
      "outputs": [
        {
          "data": {
            "text/plain": [
              "<Axes: xlabel='room_type', ylabel='Count'>"
            ]
          },
          "execution_count": 78,
          "metadata": {},
          "output_type": "execute_result"
        },
        {
          "data": {
            "image/png": "[encoded data removed]",
            "text/plain": [
              "<Figure size 640x480 with 1 Axes>"
            ]
          },
          "metadata": {},
          "output_type": "display_data"
        }
      ],
      "source": [
        "sns.histplot(data=df,x=\"room_type\",hue=\"room_type\")"
      ]
    },
    {
      "cell_type": "code",
      "execution_count": null,
      "id": "fd5f6680",
      "metadata": {
        "id": "fd5f6680",
        "outputId": "d6791db5-902d-48d5-c2ee-0103cfdc4a8c"
      },
      "outputs": [
        {
          "data": {
            "text/plain": [
              "room_type        minimum_nights\n",
              "Entire home/apt  2                 5683\n",
              "                 3                 4172\n",
              "                 1                 3722\n",
              "                 30                2389\n",
              "                 4                 1898\n",
              "                                   ... \n",
              "Shared room      25                   1\n",
              "                 22                   1\n",
              "                 12                   1\n",
              "                 11                   1\n",
              "                 999                  1\n",
              "Name: count, Length: 187, dtype: int64"
            ]
          },
          "execution_count": 49,
          "metadata": {},
          "output_type": "execute_result"
        }
      ],
      "source": [
        "#(7) Find Stay Requirement counts by Minimum Nights.  #doubt\n",
        "df.groupby(\"room_type\")[\"minimum_nights\"].value_counts()"
      ]
    },
    {
      "cell_type": "code",
      "execution_count": null,
      "id": "abc2aa25",
      "metadata": {
        "id": "abc2aa25",
        "outputId": "144d130f-5e19-48b4-8e32-1eba8cd6000f"
      },
      "outputs": [
        {
          "data": {
            "text/plain": [
              "<Axes: xlabel='room_type', ylabel='minimum_nights'>"
            ]
          },
          "execution_count": 81,
          "metadata": {},
          "output_type": "execute_result"
        },
        {
          "data": {
            "image/png": "[encoded data removed]",
            "text/plain": [
              "<Figure size 640x480 with 1 Axes>"
            ]
          },
          "metadata": {},
          "output_type": "display_data"
        }
      ],
      "source": [
        "sns.scatterplot(data=df,x=\"room_type\",y=\"minimum_nights\",hue=\"room_type\")"
      ]
    },
    {
      "cell_type": "code",
      "execution_count": null,
      "id": "a2133763",
      "metadata": {
        "id": "a2133763"
      },
      "outputs": [],
      "source": [
        " #(8) Find the total numbers of Reviews and Maximum Reviews by Each Neighborhood Group. ##doubt"
      ]
    },
    {
      "cell_type": "code",
      "execution_count": null,
      "id": "64247248",
      "metadata": {
        "id": "64247248",
        "outputId": "a6778f62-a772-4cbb-9c55-14601e57cd2f"
      },
      "outputs": [
        {
          "data": {
            "text/plain": [
              "neighbourhood_group\n",
              "Bronx             28185\n",
              "Brooklyn         475936\n",
              "Manhattan        428128\n",
              "Queens           155719\n",
              "Staten Island     11536\n",
              "Name: number_of_reviews, dtype: int64"
            ]
          },
          "execution_count": 51,
          "metadata": {},
          "output_type": "execute_result"
        }
      ],
      "source": [
        "##---total----\n",
        "df.groupby(\"neighbourhood_group\")[\"number_of_reviews\"].sum()"
      ]
    },
    {
      "cell_type": "code",
      "execution_count": null,
      "id": "d6d1956f",
      "metadata": {
        "id": "d6d1956f",
        "outputId": "84e7c346-2fb6-4ab2-9d37-37d051755526"
      },
      "outputs": [
        {
          "data": {
            "text/plain": [
              "neighbourhood_group\n",
              "Bronx            321\n",
              "Brooklyn         488\n",
              "Manhattan        607\n",
              "Queens           629\n",
              "Staten Island    333\n",
              "Name: number_of_reviews, dtype: int64"
            ]
          },
          "execution_count": 52,
          "metadata": {},
          "output_type": "execute_result"
        }
      ],
      "source": [
        "##---maximum----\n",
        "df.groupby(\"neighbourhood_group\")[\"number_of_reviews\"].max()"
      ]
    },
    {
      "cell_type": "code",
      "execution_count": null,
      "id": "8aa9bd6d",
      "metadata": {
        "id": "8aa9bd6d"
      },
      "outputs": [],
      "source": [
        "#(9) Find Most reviewed room type in Neighborhood groups per month."
      ]
    },
    {
      "cell_type": "code",
      "execution_count": null,
      "id": "ebc75a42",
      "metadata": {
        "id": "ebc75a42",
        "outputId": "c732c3cd-05fa-47b8-aab2-b5d91d50eff5"
      },
      "outputs": [
        {
          "data": {
            "text/html": [
              "<div>\n",
              "<style scoped>\n",
              "    .dataframe tbody tr th:only-of-type {\n",
              "        vertical-align: middle;\n",
              "    }\n",
              "\n",
              "    .dataframe tbody tr th {\n",
              "        vertical-align: top;\n",
              "    }\n",
              "\n",
              "    .dataframe thead th {\n",
              "        text-align: right;\n",
              "    }\n",
              "</style>\n",
              "<table border=\"1\" class=\"dataframe\">\n",
              "  <thead>\n",
              "    <tr style=\"text-align: right;\">\n",
              "      <th></th>\n",
              "      <th></th>\n",
              "      <th>reviews_per_month</th>\n",
              "    </tr>\n",
              "    <tr>\n",
              "      <th>neighbourhood_group</th>\n",
              "      <th>room_type</th>\n",
              "      <th></th>\n",
              "    </tr>\n",
              "  </thead>\n",
              "  <tbody>\n",
              "    <tr>\n",
              "      <th rowspan=\"3\" valign=\"top\">Bronx</th>\n",
              "      <th>Entire home/apt</th>\n",
              "      <td>684.91</td>\n",
              "    </tr>\n",
              "    <tr>\n",
              "      <th>Private room</th>\n",
              "      <td>860.23</td>\n",
              "    </tr>\n",
              "    <tr>\n",
              "      <th>Shared room</th>\n",
              "      <td>58.09</td>\n",
              "    </tr>\n",
              "    <tr>\n",
              "      <th rowspan=\"3\" valign=\"top\">Brooklyn</th>\n",
              "      <th>Entire home/apt</th>\n",
              "      <td>10268.32</td>\n",
              "    </tr>\n",
              "    <tr>\n",
              "      <th>Private room</th>\n",
              "      <td>10010.99</td>\n",
              "    </tr>\n",
              "    <tr>\n",
              "      <th>Shared room</th>\n",
              "      <td>310.52</td>\n",
              "    </tr>\n",
              "    <tr>\n",
              "      <th rowspan=\"3\" valign=\"top\">Manhattan</th>\n",
              "      <th>Entire home/apt</th>\n",
              "      <td>9626.07</td>\n",
              "    </tr>\n",
              "    <tr>\n",
              "      <th>Private room</th>\n",
              "      <td>9019.52</td>\n",
              "    </tr>\n",
              "    <tr>\n",
              "      <th>Shared room</th>\n",
              "      <td>636.38</td>\n",
              "    </tr>\n",
              "    <tr>\n",
              "      <th rowspan=\"3\" valign=\"top\">Queens</th>\n",
              "      <th>Entire home/apt</th>\n",
              "      <td>3364.74</td>\n",
              "    </tr>\n",
              "    <tr>\n",
              "      <th>Private room</th>\n",
              "      <td>5211.55</td>\n",
              "    </tr>\n",
              "    <tr>\n",
              "      <th>Shared room</th>\n",
              "      <td>230.90</td>\n",
              "    </tr>\n",
              "    <tr>\n",
              "      <th rowspan=\"3\" valign=\"top\">Staten Island</th>\n",
              "      <th>Entire home/apt</th>\n",
              "      <td>311.05</td>\n",
              "    </tr>\n",
              "    <tr>\n",
              "      <th>Private room</th>\n",
              "      <td>270.17</td>\n",
              "    </tr>\n",
              "    <tr>\n",
              "      <th>Shared room</th>\n",
              "      <td>6.66</td>\n",
              "    </tr>\n",
              "  </tbody>\n",
              "</table>\n",
              "</div>"
            ],
            "text/plain": [
              "                                     reviews_per_month\n",
              "neighbourhood_group room_type                         \n",
              "Bronx               Entire home/apt             684.91\n",
              "                    Private room                860.23\n",
              "                    Shared room                  58.09\n",
              "Brooklyn            Entire home/apt           10268.32\n",
              "                    Private room              10010.99\n",
              "                    Shared room                 310.52\n",
              "Manhattan           Entire home/apt            9626.07\n",
              "                    Private room               9019.52\n",
              "                    Shared room                 636.38\n",
              "Queens              Entire home/apt            3364.74\n",
              "                    Private room               5211.55\n",
              "                    Shared room                 230.90\n",
              "Staten Island       Entire home/apt             311.05\n",
              "                    Private room                270.17\n",
              "                    Shared room                   6.66"
            ]
          },
          "execution_count": 54,
          "metadata": {},
          "output_type": "execute_result"
        }
      ],
      "source": [
        "df[[\"neighbourhood_group\",\"reviews_per_month\",\"room_type\"]].groupby([\"neighbourhood_group\",\"room_type\"]).sum()"
      ]
    },
    {
      "cell_type": "code",
      "execution_count": null,
      "id": "6362141f",
      "metadata": {
        "id": "6362141f"
      },
      "outputs": [],
      "source": [
        "#sns.barplot(data=df,x=\"neighbourhood_group\",y=\"reviews_per_month\",hue=\"room_type\")"
      ]
    },
    {
      "cell_type": "code",
      "execution_count": null,
      "id": "f4e9812a",
      "metadata": {
        "id": "f4e9812a",
        "outputId": "95b7f2f0-0149-4bd6-a558-57bb5ca83c64"
      },
      "outputs": [
        {
          "data": {
            "text/plain": [
              "Index(['id', 'name', 'host_id', 'host_name', 'neighbourhood_group',\n",
              "       'neighbourhood', 'latitude', 'longitude', 'room_type', 'price',\n",
              "       'minimum_nights', 'number_of_reviews', 'last_review',\n",
              "       'reviews_per_month', 'calculated_host_listings_count',\n",
              "       'availability_365'],\n",
              "      dtype='object')"
            ]
          },
          "execution_count": 78,
          "metadata": {},
          "output_type": "execute_result"
        }
      ],
      "source": [
        "df.columns"
      ]
    },
    {
      "cell_type": "code",
      "execution_count": null,
      "id": "0a197441",
      "metadata": {
        "id": "0a197441",
        "outputId": "ad908cb7-3a6e-4bad-c8d0-2c2faa9777aa"
      },
      "outputs": [
        {
          "data": {
            "text/plain": [
              "neighbourhood    name                                              \n",
              "Jamaica          Hillside Hotel                                        12\n",
              "Greenpoint       Loft Suite @ The Box House Hotel                      11\n",
              "Williamsburg     Private room in Williamsburg                           6\n",
              "Briarwood        Hillside Hotel                                         6\n",
              "East Village     Cozy East Village Apartment                            6\n",
              "Harlem           Harlem Gem                                             5\n",
              "West Village     WEST VILLAGE Bohemian flat in neo-Tudor town house     5\n",
              "Bushwick         Bushwick Oasis                                         4\n",
              "East Village     East Village Apartment                                 4\n",
              "Upper West Side  Upper West Side Studio                                 4\n",
              "Name: count, dtype: int64"
            ]
          },
          "execution_count": 59,
          "metadata": {},
          "output_type": "execute_result"
        }
      ],
      "source": [
        "#(10) Find Best location listing/property location for travelers. #doubt\n",
        "\n",
        "df[df.minimum_nights<5][[\"neighbourhood\",\"name\"]].value_counts()[:10]"
      ]
    },
    {
      "cell_type": "code",
      "execution_count": null,
      "id": "3b402b94",
      "metadata": {
        "id": "3b402b94"
      },
      "outputs": [],
      "source": [
        "# Hillside Hotel in Jamaica has 12 listings with minimum night less than 5 which is best for travellers"
      ]
    },
    {
      "cell_type": "code",
      "execution_count": null,
      "id": "8086c90b",
      "metadata": {
        "id": "8086c90b"
      },
      "outputs": [],
      "source": [
        "#(11) Find also best location listing/property location for Hosts. #doubt"
      ]
    },
    {
      "cell_type": "code",
      "execution_count": null,
      "id": "5ceea02b",
      "metadata": {
        "id": "5ceea02b",
        "outputId": "4a8b4476-080f-47d8-dab9-7b614e78dfbb"
      },
      "outputs": [
        {
          "data": {
            "text/plain": [
              "neighbourhood    name                                              \n",
              "Jamaica          Hillside Hotel                                        12\n",
              "Greenpoint       Loft Suite @ The Box House Hotel                      11\n",
              "Midtown          IN MINT CONDITION-STUDIOS EAST 44TH/UNITED NATIONS     6\n",
              "Upper East Side  A CLASSIC NYC NEIGHBORHOOD-EAST 86TH/5TH AVENUE        5\n",
              "West Village     West Village Apartment                                 5\n",
              "Briarwood        Hillside Hotel                                         5\n",
              "West Village     WEST VILLAGE Bohemian flat in neo-Tudor town house     5\n",
              "Harlem           Harlem Gem                                             4\n",
              "Greenpoint       Loft Suite @ Box House Hotel                           4\n",
              "DUMBO            SPECTACULAR LOFT OVERLOOKING THE MANHATTAN SKYLINE     4\n",
              "Name: count, dtype: int64"
            ]
          },
          "execution_count": 60,
          "metadata": {},
          "output_type": "execute_result"
        }
      ],
      "source": [
        "df[df.price>df.price.mean()][[\"neighbourhood\",\"name\"]].value_counts()[:10]"
      ]
    },
    {
      "cell_type": "code",
      "execution_count": null,
      "id": "b8b3f8ce",
      "metadata": {
        "id": "b8b3f8ce"
      },
      "outputs": [],
      "source": [
        "#for a host Loft Suite at Greenpoint is best with 11 listings to earn more than average price"
      ]
    },
    {
      "cell_type": "code",
      "execution_count": null,
      "id": "0fc64ccc",
      "metadata": {
        "id": "0fc64ccc"
      },
      "outputs": [],
      "source": [
        "#(12) Find Price variations in NYC Neighborhood groups."
      ]
    },
    {
      "cell_type": "code",
      "execution_count": null,
      "id": "528ee680",
      "metadata": {
        "id": "528ee680",
        "outputId": "5800c1b7-a53a-4e02-c084-643f6c35901f"
      },
      "outputs": [
        {
          "name": "stderr",
          "output_type": "stream",
          "text": [
            "C:\\Users\\ASUS\\anaconda3\\Lib\\site-packages\\seaborn\\axisgrid.py:118: UserWarning: The figure layout has changed to tight\n",
            "  self._figure.tight_layout(*args, **kwargs)\n"
          ]
        },
        {
          "data": {
            "text/plain": [
              "<seaborn.axisgrid.FacetGrid at 0x2009e82bb50>"
            ]
          },
          "execution_count": 72,
          "metadata": {},
          "output_type": "execute_result"
        },
        {
          "data": {
            "image/png": "[encoded data removed]",
            "text/plain": [
              "<Figure size 663.611x500 with 1 Axes>"
            ]
          },
          "metadata": {},
          "output_type": "display_data"
        }
      ],
      "source": [
        "sns.displot(data=df, x=\"price\", hue='neighbourhood_group', multiple='stack',kind='kde',palette='viridis')\n"
      ]
    },
    {
      "cell_type": "code",
      "execution_count": null,
      "id": "39f7ac37",
      "metadata": {
        "id": "39f7ac37"
      },
      "outputs": [],
      "source": [
        "#Mahattan is the most expensive place and the listing price at Bronx is the lowest"
      ]
    },
    {
      "cell_type": "code",
      "execution_count": null,
      "id": "5651f1d5",
      "metadata": {
        "id": "5651f1d5"
      },
      "outputs": [],
      "source": [
        "##df['neighbourhood'].nunique()"
      ]
    },
    {
      "cell_type": "code",
      "execution_count": null,
      "id": "3bf4196a",
      "metadata": {
        "id": "3bf4196a"
      },
      "outputs": [],
      "source": [
        "##df[df[\"neighbourhood_group\"]==\"Brooklyn\"][\"price\"].describe()"
      ]
    },
    {
      "cell_type": "code",
      "execution_count": null,
      "id": "6938a3f2",
      "metadata": {
        "id": "6938a3f2"
      },
      "outputs": [],
      "source": [
        "##df[[\"price\",\"neighbourhood_group\"]].groupby(\"neighbourhood_group\").describe()"
      ]
    },
    {
      "cell_type": "code",
      "execution_count": null,
      "id": "36564f76",
      "metadata": {
        "id": "36564f76"
      },
      "outputs": [],
      "source": []
    }
  ],
  "metadata": {
    "kernelspec": {
      "display_name": "Python 3 (ipykernel)",
      "language": "python",
      "name": "python3"
    },
    "language_info": {
      "codemirror_mode": {
        "name": "ipython",
        "version": 3
      },
      "file_extension": ".py",
      "mimetype": "text/x-python",
      "name": "python",
      "nbconvert_exporter": "python",
      "pygments_lexer": "ipython3",
      "version": "3.11.5"
    },
    "colab": {
      "provenance": [],
      "include_colab_link": true
    }
  },
  "nbformat": 4,
  "nbformat_minor": 5
}